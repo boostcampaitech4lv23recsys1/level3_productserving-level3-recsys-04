{
 "cells": [
  {
   "cell_type": "code",
   "execution_count": 2,
   "metadata": {},
   "outputs": [],
   "source": [
    "import pandas as pd\n",
    "import numpy as np\n",
    "import re"
   ]
  },
  {
   "cell_type": "code",
   "execution_count": 3,
   "metadata": {},
   "outputs": [],
   "source": [
    "'''\n",
    "돌리기 전에 다시 확인 꼭 하기!!\n",
    "'''\n",
    "\n",
    "area = 'Gangnam'\n",
    "path = f'./user_csv/{area}/'\n",
    "num = [0, 50, 100, 500, 1000, 1500, 2000, 2500]"
   ]
  },
  {
   "cell_type": "code",
   "execution_count": null,
   "metadata": {},
   "outputs": [],
   "source": [
    "lsts = []\n",
    "for i in num:\n",
    "    lst = pd.read_csv(f'{path}user_{i}.csv')\n",
    "    lsts.append(lst)\n",
    "\n",
    "data = lsts[0]\n",
    "for i in range(1, len(lsts)):\n",
    "    data = pd.concat([data,lsts[i]])\n",
    "data = data.drop_duplicates(['user','rest'])\n",
    "data.to_csv(f'{path}user_concat_{area}.csv', index=False)"
   ]
  }
 ],
 "metadata": {
  "kernelspec": {
   "display_name": "Python 3",
   "language": "python",
   "name": "python3"
  },
  "language_info": {
   "name": "python",
   "version": "3.10.9"
  },
  "orig_nbformat": 4,
  "vscode": {
   "interpreter": {
    "hash": "7f030ad06294b09a036e93436c305e047bb24a6574e187eed793be397dfac3fe"
   }
  }
 },
 "nbformat": 4,
 "nbformat_minor": 2
}
