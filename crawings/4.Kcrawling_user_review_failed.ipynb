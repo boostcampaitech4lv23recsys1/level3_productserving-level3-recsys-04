{
 "cells": [
  {
   "attachments": {},
   "cell_type": "markdown",
   "metadata": {},
   "source": [
    "# 4.실패한 유저 리뷰 다시 뽑기 (로컬에서 실행 추천)"
   ]
  },
  {
   "cell_type": "code",
   "execution_count": null,
   "metadata": {},
   "outputs": [],
   "source": [
    "import selenium\n",
    "from selenium import webdriver\n",
    "from selenium.webdriver import ActionChains\n",
    "\n",
    "from selenium.webdriver.common.keys import Keys\n",
    "from selenium.webdriver.common.by import By\n",
    "\n",
    "from selenium.webdriver.support import expected_conditions as EC\n",
    "from selenium.webdriver.support.ui import Select\n",
    "from selenium.webdriver.support.ui import WebDriverWait\n",
    "from selenium.webdriver.common.action_chains import ActionChains\n",
    "\n",
    "from selenium.webdriver.chrome.options import Options\n",
    "\n",
    "from bs4 import BeautifulSoup\n",
    "\n",
    "from tqdm import tqdm\n",
    "\n",
    "import time\n",
    "import pandas as pd"
   ]
  },
  {
   "cell_type": "code",
   "execution_count": null,
   "metadata": {},
   "outputs": [],
   "source": [
    "chrome_options = Options()\n",
    "\n",
    "chrome_options.add_argument('window-size= 1920,1080')\n",
    "chrome_options.add_argument('--kiosk')"
   ]
  },
  {
   "cell_type": "code",
   "execution_count": null,
   "metadata": {},
   "outputs": [],
   "source": [
    "'''\n",
    "돌리기 전에 다시 확인 꼭 하기!!\n",
    "'''\n",
    "\n",
    "area = 'Gangnam'  # 구 설정\n",
    "version = 0  # 파일 이름 안 겹치게, 각자 실행할 때마다 1씩 더해주기\n",
    "start = 0 # not_save 뒤에 붙는 파일 번호"
   ]
  },
  {
   "cell_type": "code",
   "execution_count": null,
   "metadata": {},
   "outputs": [],
   "source": [
    "failed_list = []  # 실패한 번호들 담을 리스트\n",
    "userlink = pd.DataFrame()\n",
    "data = pd.read_csv(f'./area_csv/{area}/rest_concat.csv')\n",
    "url_list = list(data['url'].values)\n",
    "print(len(url_list))\n",
    "print(url_list[:5])"
   ]
  },
  {
   "cell_type": "code",
   "execution_count": null,
   "metadata": {},
   "outputs": [],
   "source": [
    "# 크롬 화면 최소화 하고 진행해야함.(ctrl + 휠로 조정)\n",
    "\n",
    "for idx in tqdm(list(map(int, open(f'./user_csv/{area}/notsaved_{start}.txt', 'r').read().split()))):\n",
    "    _url = url_list[idx]\n",
    "\n",
    "    try:\n",
    "        driver = webdriver.Chrome(executable_path='/opt/ml/input/project/crawings/chromedriver', chrome_options=chrome_options)\n",
    "        action = ActionChains(driver)\n",
    "        print(_url)\n",
    "        URL = f\"https://m.place.naver.com/restaurant/{_url}/review/visitor\"\n",
    "        driver.get(URL)\n",
    "        time.sleep(2.5)\n",
    "        count = 0\n",
    "        flag = False\n",
    "        while True:\n",
    "            try: action.move_to_element(driver.find_element(By.CLASS_NAME, \"lfH3O\")).click().perform()\n",
    "            except: break\n",
    "            print(\"\\r\",count, end=\"\")\n",
    "            count+= 1\n",
    "            if count >= 500: flag = True; break\n",
    "        print(\"click 1/2 complete\")\n",
    "        time.sleep(2.5)\n",
    "        try:\n",
    "            #action.move_to_element(driver.find_elements(By.CLASS_NAME, \"YeINN\")[-1]).perform()  #선택 리뷰 창 + 버튼 누르기\n",
    "            driver.find_element(By.CLASS_NAME, 'I8cuq').click()\n",
    "        except: print(\"NO 선택리뷰창\")\n",
    "        time.sleep(2.5)\n",
    "        action = ActionChains(driver)\n",
    "        while True:\n",
    "            if flag:\n",
    "                break  ## 첫 번째에서 이미 flag=True이면, 굳이 두 번째 while문 진행할 필요 없을듯\n",
    "            try:\n",
    "                action.move_to_element(driver.find_element(By.CLASS_NAME, \"lfH3O\")).click().perform()\n",
    "            except:\n",
    "                break\n",
    "            print(\"\\r\",count, end=\"\")\n",
    "            count+= 1\n",
    "            if count >= 500: flag = True; break\n",
    "        print(\"click 2/2 complete\")\n",
    "        #if flag:\n",
    "        #    failed_list.append(idx); print('failed\\n')\n",
    "            \n",
    "        html = driver.page_source\n",
    "        soup = BeautifulSoup(html,'html.parser')\n",
    "        user = soup.find_all(class_='YeINN')\n",
    "        link_list = [i.a['href'] for i in user]\n",
    "        user_list = [i.text for i in user]\n",
    "        #time.sleep(5)\n",
    "        print(_url, len(link_list), len(user_list))\n",
    "        userlink2 = pd.DataFrame({'link' : link_list, 'user' : user_list}, dtype = str)\n",
    "        userlink2['rest'] = _url\n",
    "        userlink = pd.concat([userlink, userlink2], axis = 0, sort=False)\n",
    "        userlink.to_csv(f'./user_csv/{area}/user_fail_{version}.csv', index=False)  # ex) Gangnam_schini_0.csv\n",
    "    except:\n",
    "        print(_url)\n",
    "        failed_list.append(idx); print('failed\\n')\n",
    "        continue\n",
    "\n",
    "print(\"End~\")"
   ]
  },
  {
   "cell_type": "code",
   "execution_count": null,
   "metadata": {},
   "outputs": [],
   "source": [
    "print(failed_list)  # 실패한 번호들 확인\n",
    "open(f'./user_csv/{area}/notsaved.txt', 'w').write('\\n'.join(map(str, failed_list)))  # 실패한 번호들 다시 저장"
   ]
  }
 ],
 "metadata": {
  "kernelspec": {
   "display_name": "Python 3",
   "language": "python",
   "name": "python3"
  },
  "language_info": {
   "codemirror_mode": {
    "name": "ipython",
    "version": 3
   },
   "file_extension": ".py",
   "mimetype": "text/x-python",
   "name": "python",
   "nbconvert_exporter": "python",
   "pygments_lexer": "ipython3",
   "version": "3.10.9"
  },
  "vscode": {
   "interpreter": {
    "hash": "7f030ad06294b09a036e93436c305e047bb24a6574e187eed793be397dfac3fe"
   }
  }
 },
 "nbformat": 4,
 "nbformat_minor": 4
}
