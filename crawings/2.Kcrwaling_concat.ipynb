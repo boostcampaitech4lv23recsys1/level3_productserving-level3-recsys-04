{
 "cells": [
  {
   "cell_type": "code",
   "execution_count": 1,
   "metadata": {},
   "outputs": [],
   "source": [
    "import pandas as pd\n",
    "import numpy as np\n",
    "import re\n",
    "\n",
    "import warnings\n",
    "warnings.filterwarnings(\"ignore\")"
   ]
  },
  {
   "cell_type": "code",
   "execution_count": 4,
   "metadata": {},
   "outputs": [],
   "source": [
    "'''\n",
    "돌리기 전에 다시 확인 꼭 하기!!\n",
    "'''\n",
    "# area : 지역\n",
    "# num : csv 최대개수\n",
    "area = 'Sungdong'\n",
    "num = 12"
   ]
  },
  {
   "cell_type": "code",
   "execution_count": 5,
   "metadata": {},
   "outputs": [],
   "source": [
    "path = f'./area_csv/{area}/'\n",
    "lsts = []\n",
    "\n",
    "for i in range(1, num+1):\n",
    "    lst = pd.read_csv(f'{path}rest_{i}.csv')\n",
    "    lsts.append(lst)"
   ]
  },
  {
   "cell_type": "code",
   "execution_count": 6,
   "metadata": {},
   "outputs": [],
   "source": [
    "data = lsts[0]\n",
    "\n",
    "for i in range(1, num):\n",
    "    data = pd.concat([data,lsts[i]])"
   ]
  },
  {
   "cell_type": "code",
   "execution_count": 7,
   "metadata": {},
   "outputs": [],
   "source": [
    "data['url']= data['url'].apply(lambda x: re.findall(r'/[0-9]+', x)[0][1:])\n",
    "data['review'] = data['review'].apply(lambda x: re.findall(r'[\\d{1.2}]+', x))\n",
    "data['len'] = data['review'].apply(lambda x : len(x))\n",
    "data = data[data['len'] > 0]\n",
    "data['rating'] = data['review'].apply(lambda x: x[0] if len(x) == 2 else np.nan)\n",
    "data['count'] = data['review'].apply(lambda x: x[1] if len(x) == 2 else x[0])"
   ]
  },
  {
   "cell_type": "code",
   "execution_count": 10,
   "metadata": {},
   "outputs": [],
   "source": [
    "data['count'] = data['count'].astype('float')\n",
    "data = data.drop_duplicates('url') # restaurant\n",
    "data = data[data['count'] >= 10]\n",
    "data.to_csv(f'{path}/rest_concat.csv', index=False)"
   ]
  }
 ],
 "metadata": {
  "kernelspec": {
   "display_name": "Python 3",
   "language": "python",
   "name": "python3"
  },
  "language_info": {
   "codemirror_mode": {
    "name": "ipython",
    "version": 3
   },
   "file_extension": ".py",
   "mimetype": "text/x-python",
   "name": "python",
   "nbconvert_exporter": "python",
   "pygments_lexer": "ipython3",
   "version": "3.10.9"
  },
  "vscode": {
   "interpreter": {
    "hash": "7f030ad06294b09a036e93436c305e047bb24a6574e187eed793be397dfac3fe"
   }
  }
 },
 "nbformat": 4,
 "nbformat_minor": 4
}
