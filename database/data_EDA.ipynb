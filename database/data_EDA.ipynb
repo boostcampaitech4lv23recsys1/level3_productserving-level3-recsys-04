{
 "cells": [
  {
   "cell_type": "code",
   "execution_count": 12,
   "metadata": {},
   "outputs": [],
   "source": [
    "import numpy as np\n",
    "import pandas as pd\n",
    "\n",
    "import matplotlib as mpl\n",
    "import matplotlib.pyplot as plt\n",
    "\n",
    "import warnings\n",
    "\n",
    "warnings.filterwarnings(action='ignore')\n",
    "\n",
    "data = pd.read_csv('data/data_all.csv') # user, item 중복된 데이터 제거"
   ]
  },
  {
   "cell_type": "code",
   "execution_count": 13,
   "metadata": {},
   "outputs": [
    {
     "name": "stdout",
     "output_type": "stream",
     "text": [
      "1692534\n",
      "41460\n",
      "99.9845\n"
     ]
    }
   ],
   "source": [
    "print(data['userid'].nunique())\n",
    "print(data['rest'].nunique())\n",
    "print(np.round((1 - data.shape[0] / (data['userid'].nunique() * data['rest'].nunique())) * 100,4))"
   ]
  },
  {
   "attachments": {},
   "cell_type": "markdown",
   "metadata": {},
   "source": [
    "약 170만명의 유저, 4만 개의 식당이 존재합니다.\n",
    "\n",
    "희소행렬비율은 99.98%로 많이 sparse한 모습입니다."
   ]
  },
  {
   "cell_type": "code",
   "execution_count": 14,
   "metadata": {},
   "outputs": [
    {
     "name": "stdout",
     "output_type": "stream",
     "text": [
      "382940\n",
      "41460\n",
      "99.9451\n"
     ]
    }
   ],
   "source": [
    "_user = data['userid'].value_counts().reset_index()\n",
    "_user.columns = ['userid', 'cnt']\n",
    "data_not_cold = pd.merge(data, _user, how = 'left', on = 'userid')\n",
    "data_not_cold = data_not_cold[data_not_cold['cnt'] > 5].reset_index(drop = True)\n",
    "\n",
    "print(data_not_cold['userid'].nunique())\n",
    "print(data_not_cold['rest'].nunique())\n",
    "print(np.round((1 - data_not_cold.shape[0] / (data_not_cold['userid'].nunique() * data_not_cold['rest'].nunique())) * 100,4))"
   ]
  },
  {
   "attachments": {},
   "cell_type": "markdown",
   "metadata": {},
   "source": [
    "5개 이상 방문 이력이 있는 유저를 관찰한 결과 약 38만명의 유저, 4만 개의 식당이 존재합니다.\n",
    "\n",
    "희소행렬비율은 99.94%로 이전보단 dense 해졌습니다.\n",
    "\n",
    "99.95 보다 dense한 데이터를 목표로 했기 때문에 5개 이상 방문 이력이 있는 유저를 대상으로 모델링을 진행하려합니다."
   ]
  },
  {
   "cell_type": "code",
   "execution_count": 15,
   "metadata": {},
   "outputs": [
    {
     "data": {
      "text/plain": [
       "<AxesSubplot: >"
      ]
     },
     "execution_count": 15,
     "metadata": {},
     "output_type": "execute_result"
    },
    {
     "data": {
      "image/png": "[encoded data removed]",
      "text/plain": [
       "<Figure size 640x480 with 1 Axes>"
      ]
     },
     "metadata": {},
     "output_type": "display_data"
    }
   ],
   "source": [
    "data['rest'].value_counts().hist(orientation='horizontal', bins=100)"
   ]
  },
  {
   "attachments": {},
   "cell_type": "markdown",
   "metadata": {},
   "source": [
    "long-tail을 관찰하기 위해 사용한 코드 입니다.\n",
    "\n",
    "몇몇 인기 있는 식당의 방문 기록이 편중된 느낌이긴 하지만 많이 심해보이진 않습니다.\n",
    "\n",
    "모든 식당을 조사하기 보단 인기있는 식당 위주로 크롤링하였기 때문에 long-tail 문제가 두드러지진 않는 것 같아요."
   ]
  },
  {
   "cell_type": "code",
   "execution_count": 19,
   "metadata": {},
   "outputs": [
    {
     "data": {
      "text/plain": [
       "5e48b1458f87a842bc5d14b3    542\n",
       "5bdea6e87928af2f472f97f8    512\n",
       "5ed5e0ed8f87a842bc7d5ca6    483\n",
       "5bc69fac446df35606a76b9d    415\n",
       "5f2517639ec8258e4ad51321    414\n",
       "                           ... \n",
       "5efdea45b4dd01caff09b53c      1\n",
       "5c6fc8139b90dc048b43be43      1\n",
       "5dce636b8f87a842bcaf1d77      1\n",
       "5d69f9378f87a842bc1b082f      1\n",
       "5bdbe61b18825187595cf869      1\n",
       "Name: userid, Length: 1692534, dtype: int64"
      ]
     },
     "execution_count": 19,
     "metadata": {},
     "output_type": "execute_result"
    }
   ],
   "source": [
    "data['userid'].value_counts()"
   ]
  },
  {
   "attachments": {},
   "cell_type": "markdown",
   "metadata": {},
   "source": [
    "약 4만개 식당 중 500개 넘개 방문하신 분도 계실 정도로 열정적이신 분들이 많은 것 같습니다."
   ]
  }
 ],
 "metadata": {
  "kernelspec": {
   "display_name": "data",
   "language": "python",
   "name": "data"
  },
  "language_info": {
   "codemirror_mode": {
    "name": "ipython",
    "version": 3
   },
   "file_extension": ".py",
   "mimetype": "text/x-python",
   "name": "python",
   "nbconvert_exporter": "python",
   "pygments_lexer": "ipython3",
   "version": "3.8.16"
  },
  "orig_nbformat": 4
 },
 "nbformat": 4,
 "nbformat_minor": 2
}
