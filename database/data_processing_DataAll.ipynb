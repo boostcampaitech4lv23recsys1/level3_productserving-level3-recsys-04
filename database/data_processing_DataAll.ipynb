{
 "cells": [
  {
   "cell_type": "code",
   "execution_count": 9,
   "metadata": {},
   "outputs": [],
   "source": [
    "import numpy as np\n",
    "import pandas as pd\n",
    "from numpy import random\n",
    "import sqlite3\n",
    "\n",
    "import re\n",
    "\n",
    "import random\n",
    "\n",
    "import warnings\n",
    "warnings.filterwarnings('ignore')\n",
    "\n",
    "seed = 1998"
   ]
  },
  {
   "cell_type": "code",
   "execution_count": 10,
   "metadata": {},
   "outputs": [
    {
     "data": {
      "text/plain": [
       "25"
      ]
     },
     "execution_count": 10,
     "metadata": {},
     "output_type": "execute_result"
    }
   ],
   "source": [
    "area_list = ['Dobong', 'Dongdaemun', 'Dongjag', 'eunpyeong', 'geumcheon',\n",
    "'Guro', 'GwanUck', 'Jongno', 'Junggu', 'Jungnang', 'Kongbuk',\n",
    "'Kongdong', 'Kongjin', 'Kongnam', 'Kongseo', 'Mapo', 'Nowon', 'Seocho',\n",
    "'Seodaemun', 'Seongbuk', 'Seongdong', 'songpa', 'Yangcheon',\n",
    "'Yeongdeungpo', 'Yongsan']\n",
    "\n",
    "len(area_list)"
   ]
  },
  {
   "cell_type": "code",
   "execution_count": 11,
   "metadata": {},
   "outputs": [],
   "source": [
    "def solve(x):\n",
    "    a = re.findall(r'\\d{4}년 \\d{1,2}월 \\d{1,2}일', str(x))\n",
    "    try: return a[0]\n",
    "    except: return np.NAN\n",
    "\n",
    "data = pd.DataFrame()\n",
    "\n",
    "for area in area_list:\n",
    "    tem = pd.read_csv(f'./user_csv/{area}.csv')\n",
    "    tem['userid'] = tem['link'].apply(lambda x: str(re.findall(r'my/[a-z0-9]+/', x))[5:-3])\n",
    "    tem['date'] = tem['user'].apply(lambda x: solve(x))\n",
    "\n",
    "    tem = tem[['userid', 'rest', 'date']]\n",
    "    tem = tem.drop_duplicates()\n",
    "    data = pd.concat([data, tem])\n",
    "\n",
    "data = data.drop_duplicates() # 30만개정도 빠짐\n",
    "data = data[~data['rest'].isnull()] # 7개정도 null 값이 있더라\n",
    "data.reset_index(drop=True, inplace = True)"
   ]
  },
  {
   "cell_type": "code",
   "execution_count": 13,
   "metadata": {},
   "outputs": [],
   "source": [
    "rest = pd.read_csv('data/rest.csv')\n",
    "rest = rest[['url', 'rest_code']]\n",
    "\n",
    "user = pd.read_csv('data/user.csv')\n",
    "user = user[['user','user_code']]\n",
    "\n",
    "data = data[['userid', 'rest', 'date']]\n",
    "data = data.drop_duplicates(['userid','rest'])"
   ]
  },
  {
   "cell_type": "code",
   "execution_count": 14,
   "metadata": {},
   "outputs": [],
   "source": [
    "data = pd.merge(data, rest, left_on = 'rest', right_on = 'url', how = 'left')\n",
    "data = data[~data['rest_code'].isnull()]\n",
    "data['rest_code'] = data['rest_code'].astype('int')\n",
    "data = pd.merge(data, user, left_on = 'userid', right_on = 'user', how = 'left')\n",
    "data['user_code'] = data['user_code'].fillna(-1)\n",
    "data['user_code'] = data['user_code'].astype('int')\n",
    "data = data.drop_duplicates(['userid','rest'])\n",
    "data = data[['userid', 'rest', 'date', 'rest_code', 'user_code']].reset_index(drop = True)"
   ]
  },
  {
   "cell_type": "code",
   "execution_count": 16,
   "metadata": {},
   "outputs": [],
   "source": [
    "data.to_csv('../airflow/data/data_all.csv', index = False)\n",
    "data.to_csv('data/data_all.csv', index = False)"
   ]
  },
  {
   "cell_type": "code",
   "execution_count": null,
   "metadata": {},
   "outputs": [],
   "source": []
  }
 ],
 "metadata": {
  "kernelspec": {
   "display_name": "data",
   "language": "python",
   "name": "data"
  },
  "orig_nbformat": 4
 },
 "nbformat": 4,
 "nbformat_minor": 2
}
